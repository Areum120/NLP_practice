{
  "nbformat": 4,
  "nbformat_minor": 0,
  "metadata": {
    "colab": {
      "name": "KoNLPy 한국어처리 패키지.ipynb",
      "provenance": [],
      "authorship_tag": "ABX9TyP47GZ6Vp7zeKmWagYM1FNu",
      "include_colab_link": true
    },
    "kernelspec": {
      "name": "python3",
      "display_name": "Python 3"
    },
    "language_info": {
      "name": "python"
    }
  },
  "cells": [
    {
      "cell_type": "markdown",
      "metadata": {
        "id": "view-in-github",
        "colab_type": "text"
      },
      "source": [
        "<a href=\"https://colab.research.google.com/github/Areum120/NLP_practice/blob/main/KoNLPy_%ED%95%9C%EA%B5%AD%EC%96%B4%EC%B2%98%EB%A6%AC_%ED%8C%A8%ED%82%A4%EC%A7%80.ipynb\" target=\"_parent\"><img src=\"https://colab.research.google.com/assets/colab-badge.svg\" alt=\"Open In Colab\"/></a>"
      ]
    },
    {
      "cell_type": "code",
      "metadata": {
        "colab": {
          "base_uri": "https://localhost:8080/",
          "height": 35
        },
        "id": "4LWbRGcEwPXo",
        "outputId": "610a27b5-9309-44c4-e79d-e5154bc1ca09"
      },
      "source": [
        "import warnings\n",
        "warnings.simplefilter(\"ignore\")\n",
        "\n",
        "import konlpy\n",
        "konlpy.__version__"
      ],
      "execution_count": 9,
      "outputs": [
        {
          "output_type": "execute_result",
          "data": {
            "application/vnd.google.colaboratory.intrinsic+json": {
              "type": "string"
            },
            "text/plain": [
              "'0.5.2'"
            ]
          },
          "metadata": {
            "tags": []
          },
          "execution_count": 9
        }
      ]
    },
    {
      "cell_type": "code",
      "metadata": {
        "colab": {
          "base_uri": "https://localhost:8080/"
        },
        "id": "ywl8oNyZwig4",
        "outputId": "75d70b11-a2f1-4635-e1ef-2c7c12c20d05"
      },
      "source": [
        "!apt-get update \n",
        "!apt-get install g++ openjdk-8-jdk python-dev python3-dev \n",
        "!pip3 install JPype1-py3 \n",
        "!pip3 install konlpy \n",
        "!JAVA_HOME=\"C:\\Program Files\\Java\\jdk-16.0.2\""
      ],
      "execution_count": 13,
      "outputs": [
        {
          "output_type": "stream",
          "text": [
            "\r0% [Working]\r            \rGet:1 http://security.ubuntu.com/ubuntu bionic-security InRelease [88.7 kB]\n",
            "\r0% [Connecting to archive.ubuntu.com (91.189.88.142)] [1 InRelease 14.2 kB/88.7\r                                                                               \rHit:2 https://cloud.r-project.org/bin/linux/ubuntu bionic-cran40/ InRelease\n",
            "\r0% [Connecting to archive.ubuntu.com (91.189.88.142)] [1 InRelease 88.7 kB/88.7\r0% [Connecting to archive.ubuntu.com (91.189.88.142)] [Connecting to ppa.launch\r0% [2 InRelease gpgv 3,626 B] [Connecting to archive.ubuntu.com (91.189.88.142)\r                                                                               \rIgn:3 https://developer.download.nvidia.com/compute/cuda/repos/ubuntu1804/x86_64  InRelease\n",
            "\r                                                                               \r0% [2 InRelease gpgv 3,626 B] [Waiting for headers] [Waiting for headers]\r                                                                         \rHit:4 http://ppa.launchpad.net/c2d4u.team/c2d4u4.0+/ubuntu bionic InRelease\n",
            "Hit:5 http://archive.ubuntu.com/ubuntu bionic InRelease\n",
            "Ign:6 https://developer.download.nvidia.com/compute/machine-learning/repos/ubuntu1804/x86_64  InRelease\n",
            "Hit:7 https://developer.download.nvidia.com/compute/cuda/repos/ubuntu1804/x86_64  Release\n",
            "Hit:8 https://developer.download.nvidia.com/compute/machine-learning/repos/ubuntu1804/x86_64  Release\n",
            "Get:9 http://archive.ubuntu.com/ubuntu bionic-updates InRelease [88.7 kB]\n",
            "Hit:10 http://ppa.launchpad.net/cran/libgit2/ubuntu bionic InRelease\n",
            "Hit:11 http://ppa.launchpad.net/deadsnakes/ppa/ubuntu bionic InRelease\n",
            "Get:12 http://archive.ubuntu.com/ubuntu bionic-backports InRelease [74.6 kB]\n",
            "Hit:13 http://ppa.launchpad.net/graphics-drivers/ppa/ubuntu bionic InRelease\n",
            "Fetched 252 kB in 3s (97.3 kB/s)\n",
            "Reading package lists... Done\n",
            "Reading package lists... Done\n",
            "Building dependency tree       \n",
            "Reading state information... Done\n",
            "python-dev is already the newest version (2.7.15~rc1-1).\n",
            "g++ is already the newest version (4:7.4.0-1ubuntu2.3).\n",
            "python3-dev is already the newest version (3.6.7-1~18.04).\n",
            "openjdk-8-jdk is already the newest version (8u292-b10-0ubuntu1~18.04).\n",
            "0 upgraded, 0 newly installed, 0 to remove and 107 not upgraded.\n",
            "Requirement already satisfied: JPype1-py3 in /usr/local/lib/python3.7/dist-packages (0.5.5.4)\n",
            "Requirement already satisfied: konlpy in /usr/local/lib/python3.7/dist-packages (0.5.2)\n",
            "Requirement already satisfied: numpy>=1.6 in /usr/local/lib/python3.7/dist-packages (from konlpy) (1.19.5)\n",
            "Requirement already satisfied: colorama in /usr/local/lib/python3.7/dist-packages (from konlpy) (0.4.4)\n",
            "Requirement already satisfied: tweepy>=3.7.0 in /usr/local/lib/python3.7/dist-packages (from konlpy) (3.10.0)\n",
            "Requirement already satisfied: beautifulsoup4==4.6.0 in /usr/local/lib/python3.7/dist-packages (from konlpy) (4.6.0)\n",
            "Requirement already satisfied: lxml>=4.1.0 in /usr/local/lib/python3.7/dist-packages (from konlpy) (4.2.6)\n",
            "Requirement already satisfied: JPype1>=0.7.0 in /usr/local/lib/python3.7/dist-packages (from konlpy) (1.3.0)\n",
            "Requirement already satisfied: typing-extensions in /usr/local/lib/python3.7/dist-packages (from JPype1>=0.7.0->konlpy) (3.7.4.3)\n",
            "Requirement already satisfied: requests-oauthlib>=0.7.0 in /usr/local/lib/python3.7/dist-packages (from tweepy>=3.7.0->konlpy) (1.3.0)\n",
            "Requirement already satisfied: six>=1.10.0 in /usr/local/lib/python3.7/dist-packages (from tweepy>=3.7.0->konlpy) (1.15.0)\n",
            "Requirement already satisfied: requests[socks]>=2.11.1 in /usr/local/lib/python3.7/dist-packages (from tweepy>=3.7.0->konlpy) (2.23.0)\n",
            "Requirement already satisfied: oauthlib>=3.0.0 in /usr/local/lib/python3.7/dist-packages (from requests-oauthlib>=0.7.0->tweepy>=3.7.0->konlpy) (3.1.1)\n",
            "Requirement already satisfied: certifi>=2017.4.17 in /usr/local/lib/python3.7/dist-packages (from requests[socks]>=2.11.1->tweepy>=3.7.0->konlpy) (2021.5.30)\n",
            "Requirement already satisfied: idna<3,>=2.5 in /usr/local/lib/python3.7/dist-packages (from requests[socks]>=2.11.1->tweepy>=3.7.0->konlpy) (2.10)\n",
            "Requirement already satisfied: chardet<4,>=3.0.2 in /usr/local/lib/python3.7/dist-packages (from requests[socks]>=2.11.1->tweepy>=3.7.0->konlpy) (3.0.4)\n",
            "Requirement already satisfied: urllib3!=1.25.0,!=1.25.1,<1.26,>=1.21.1 in /usr/local/lib/python3.7/dist-packages (from requests[socks]>=2.11.1->tweepy>=3.7.0->konlpy) (1.24.3)\n",
            "Requirement already satisfied: PySocks!=1.5.7,>=1.5.6 in /usr/local/lib/python3.7/dist-packages (from requests[socks]>=2.11.1->tweepy>=3.7.0->konlpy) (1.7.1)\n"
          ],
          "name": "stdout"
        }
      ]
    },
    {
      "cell_type": "code",
      "metadata": {
        "id": "-yXBRVORxLhw"
      },
      "source": [
        "from konlpy.tag import Okt \n",
        "okt = Okt()\n",
        "# 실험"
      ],
      "execution_count": 10,
      "outputs": []
    },
    {
      "cell_type": "code",
      "metadata": {
        "colab": {
          "base_uri": "https://localhost:8080/"
        },
        "id": "k7kcTuyWyFBH",
        "outputId": "dcb88b4c-74ba-428c-f52d-85e05e7bc8bd"
      },
      "source": [
        "# 헌법 말뭉치\n",
        "from konlpy.corpus import kolaw\n",
        "kolaw.fileids()"
      ],
      "execution_count": 11,
      "outputs": [
        {
          "output_type": "execute_result",
          "data": {
            "text/plain": [
              "['constitution.txt']"
            ]
          },
          "metadata": {
            "tags": []
          },
          "execution_count": 11
        }
      ]
    },
    {
      "cell_type": "code",
      "metadata": {
        "colab": {
          "base_uri": "https://localhost:8080/",
          "height": 35
        },
        "id": "Pf09mS-5yMs3",
        "outputId": "1321e392-1ee1-4fea-cd7c-0e2c250c3689"
      },
      "source": [
        "c = kolaw.open('constitution.txt').read()\n",
        "c[:40]"
      ],
      "execution_count": 12,
      "outputs": [
        {
          "output_type": "execute_result",
          "data": {
            "application/vnd.google.colaboratory.intrinsic+json": {
              "type": "string"
            },
            "text/plain": [
              "'대한민국헌법\\n\\n유구한 역사와 전통에 빛나는 우리 대한국민은 3·1운동으로'"
            ]
          },
          "metadata": {
            "tags": []
          },
          "execution_count": 12
        }
      ]
    },
    {
      "cell_type": "code",
      "metadata": {
        "colab": {
          "base_uri": "https://localhost:8080/"
        },
        "id": "CkcgTVHNyNH3",
        "outputId": "96ff2e3e-b583-4cb2-a334-d548fd454fe5"
      },
      "source": [
        "# 국회법안 말뭉치\n",
        "from konlpy.corpus import kobill\n",
        "kobill.fileids()"
      ],
      "execution_count": 13,
      "outputs": [
        {
          "output_type": "execute_result",
          "data": {
            "text/plain": [
              "['1809895.txt',\n",
              " '1809893.txt',\n",
              " '1809897.txt',\n",
              " '1809896.txt',\n",
              " '1809894.txt',\n",
              " '1809898.txt',\n",
              " '1809891.txt',\n",
              " '1809899.txt',\n",
              " '1809890.txt',\n",
              " '1809892.txt']"
            ]
          },
          "metadata": {
            "tags": []
          },
          "execution_count": 13
        }
      ]
    },
    {
      "cell_type": "code",
      "metadata": {
        "colab": {
          "base_uri": "https://localhost:8080/",
          "height": 35
        },
        "id": "HKXpY4x3yPBP",
        "outputId": "bdd4b62b-f2e5-4f20-d11c-f66f0eac8f28"
      },
      "source": [
        "d = kobill.open('1809890.txt').read()\n",
        "d[:40]"
      ],
      "execution_count": 14,
      "outputs": [
        {
          "output_type": "execute_result",
          "data": {
            "application/vnd.google.colaboratory.intrinsic+json": {
              "type": "string"
            },
            "text/plain": [
              "'지방공무원법 일부개정법률안\\n\\n(정의화의원 대표발의 )\\n\\n 의 안\\n 번 호'"
            ]
          },
          "metadata": {
            "tags": []
          },
          "execution_count": 14
        }
      ]
    },
    {
      "cell_type": "markdown",
      "metadata": {
        "id": "cNSJKOm8ySzj"
      },
      "source": [
        "## 형태소 분석\n",
        "- Hannanum: 한나눔. KAIST Semantic Web Research Center 개발.\n",
        "http://semanticweb.kaist.ac.kr/hannanum/\n",
        "\n",
        "- Kkma: 꼬꼬마. 서울대학교 IDS(Intelligent Data Systems) 연구실 개발.\n",
        "http://kkma.snu.ac.kr/\n",
        "\n",
        "- Komoran: 코모란. Shineware에서 개발.\n",
        "https://github.com/shin285/KOMORAN\n",
        "\n",
        "- Mecab: 메카브. 일본어용 형태소 분석기를 한국어를 사용할 수 있도록 수정.\n",
        "https://bitbucket.org/eunjeon/mecab-ko\n",
        "\n",
        "- Open Korean Text: 오픈 소스 한국어 분석기. 과거 트위터 형태소 분석기.\n",
        "https://github.com/open-korean-text/open-korean-text"
      ]
    },
    {
      "cell_type": "code",
      "metadata": {
        "id": "SWmbiDityZg_"
      },
      "source": [
        "from konlpy.tag import *\n",
        "\n",
        "hannanum = Hannanum()\n",
        "kkma = Kkma()\n",
        "komoran = Komoran()\n",
        "okt = Okt()\n",
        "\n",
        "# nouns : 명사 추출\n",
        "# morphs : 형태소 추출\n",
        "# pos : 품사 부착"
      ],
      "execution_count": 15,
      "outputs": []
    },
    {
      "cell_type": "markdown",
      "metadata": {
        "id": "jibdHtcrXTOC"
      },
      "source": [
        "# 명사 추출"
      ]
    },
    {
      "cell_type": "code",
      "metadata": {
        "colab": {
          "base_uri": "https://localhost:8080/"
        },
        "id": "LRsWURJ15d2-",
        "outputId": "2759e708-338e-406c-83b6-d687ef9d5abf"
      },
      "source": [
        "hannanum.nouns(c[:40])"
      ],
      "execution_count": 16,
      "outputs": [
        {
          "output_type": "execute_result",
          "data": {
            "text/plain": [
              "['대한민국헌법', '유구', '역사', '전통', '빛', '우리', '대한국민', '3·1운동']"
            ]
          },
          "metadata": {
            "tags": []
          },
          "execution_count": 16
        }
      ]
    },
    {
      "cell_type": "code",
      "metadata": {
        "colab": {
          "base_uri": "https://localhost:8080/"
        },
        "id": "gl_Pequam3pn",
        "outputId": "b0e98576-1b16-4aa7-aee1-9e82b1487ef4"
      },
      "source": [
        "kkma.nouns(c[:40])"
      ],
      "execution_count": 17,
      "outputs": [
        {
          "output_type": "execute_result",
          "data": {
            "text/plain": [
              "['대한',\n",
              " '대한민국',\n",
              " '대한민국헌법',\n",
              " '민국',\n",
              " '헌법',\n",
              " '유구',\n",
              " '역사',\n",
              " '전통',\n",
              " '우리',\n",
              " '국민',\n",
              " '3',\n",
              " '1',\n",
              " '1운동',\n",
              " '운동']"
            ]
          },
          "metadata": {
            "tags": []
          },
          "execution_count": 17
        }
      ]
    },
    {
      "cell_type": "code",
      "metadata": {
        "colab": {
          "base_uri": "https://localhost:8080/"
        },
        "id": "OJlmYkwEXcrh",
        "outputId": "a00cde24-25d6-42b0-b7bf-0a03c3463bc3"
      },
      "source": [
        "komoran.nouns(\"\\n\".join([s for s in c[:40].split(\"\\n\") if s]))\n",
        "# komoran은 빈줄 있으면 에러남"
      ],
      "execution_count": 18,
      "outputs": [
        {
          "output_type": "execute_result",
          "data": {
            "text/plain": [
              "['대한민국', '헌법', '역사', '전통', '국민', '운동']"
            ]
          },
          "metadata": {
            "tags": []
          },
          "execution_count": 18
        }
      ]
    },
    {
      "cell_type": "code",
      "metadata": {
        "colab": {
          "base_uri": "https://localhost:8080/"
        },
        "id": "vkzO3MLemZEj",
        "outputId": "8c03f31b-b07c-4087-8d34-902d495235e4"
      },
      "source": [
        "okt.nouns(c[:40])"
      ],
      "execution_count": 19,
      "outputs": [
        {
          "output_type": "execute_result",
          "data": {
            "text/plain": [
              "['대한민국', '헌법', '유구', '역사', '전통', '우리', '국민', '운동']"
            ]
          },
          "metadata": {
            "tags": []
          },
          "execution_count": 19
        }
      ]
    },
    {
      "cell_type": "markdown",
      "metadata": {
        "id": "Xob8APHXmnKw"
      },
      "source": [
        "## 형태소 추출"
      ]
    },
    {
      "cell_type": "code",
      "metadata": {
        "colab": {
          "base_uri": "https://localhost:8080/"
        },
        "id": "mqy7x-O4md8v",
        "outputId": "47cf21eb-3e4c-4b9b-9d99-c8fa897873f4"
      },
      "source": [
        "hannanum.morphs(c[:40])"
      ],
      "execution_count": 20,
      "outputs": [
        {
          "output_type": "execute_result",
          "data": {
            "text/plain": [
              "['대한민국헌법',\n",
              " '유구',\n",
              " '하',\n",
              " 'ㄴ',\n",
              " '역사',\n",
              " '와',\n",
              " '전통',\n",
              " '에',\n",
              " '빛',\n",
              " '나는',\n",
              " '우리',\n",
              " '대한국민',\n",
              " '은',\n",
              " '3·1운동',\n",
              " '으로']"
            ]
          },
          "metadata": {
            "tags": []
          },
          "execution_count": 20
        }
      ]
    },
    {
      "cell_type": "code",
      "metadata": {
        "colab": {
          "base_uri": "https://localhost:8080/"
        },
        "id": "Dqq61UG9mxSH",
        "outputId": "b0e04079-5b19-448a-d8e0-54a9c0fb04fa"
      },
      "source": [
        "kkma.morphs(c[:40])"
      ],
      "execution_count": 21,
      "outputs": [
        {
          "output_type": "execute_result",
          "data": {
            "text/plain": [
              "['대한민국',\n",
              " '헌법',\n",
              " '유구',\n",
              " '하',\n",
              " 'ㄴ',\n",
              " '역사',\n",
              " '와',\n",
              " '전통',\n",
              " '에',\n",
              " '빛나',\n",
              " '는',\n",
              " '우리',\n",
              " '대하',\n",
              " 'ㄴ',\n",
              " '국민',\n",
              " '은',\n",
              " '3',\n",
              " '·',\n",
              " '1',\n",
              " '운동',\n",
              " '으로']"
            ]
          },
          "metadata": {
            "tags": []
          },
          "execution_count": 21
        }
      ]
    },
    {
      "cell_type": "code",
      "metadata": {
        "colab": {
          "base_uri": "https://localhost:8080/"
        },
        "id": "Z9LGo7YWnA5f",
        "outputId": "6ce3af86-34b9-4b23-b2b9-e0851d48d435"
      },
      "source": [
        "# komoran은 빈줄이 있으면 에러가 남\n",
        "komoran.morphs(\"\\n\".join([s for s in c[:40].split(\"\\n\") if s]))"
      ],
      "execution_count": 22,
      "outputs": [
        {
          "output_type": "execute_result",
          "data": {
            "text/plain": [
              "['대한민국',\n",
              " '헌법',\n",
              " '유구',\n",
              " '하',\n",
              " 'ㄴ',\n",
              " '역사',\n",
              " '와',\n",
              " '전통',\n",
              " '에',\n",
              " '빛나',\n",
              " '는',\n",
              " '우리',\n",
              " '대하',\n",
              " 'ㄴ',\n",
              " '국민',\n",
              " '은',\n",
              " '3',\n",
              " '·',\n",
              " '1',\n",
              " '운동',\n",
              " '으로']"
            ]
          },
          "metadata": {
            "tags": []
          },
          "execution_count": 22
        }
      ]
    },
    {
      "cell_type": "code",
      "metadata": {
        "colab": {
          "base_uri": "https://localhost:8080/"
        },
        "id": "NeQ_YrP1nBS_",
        "outputId": "b59f7ffd-5476-4ed2-8182-25d298e54987"
      },
      "source": [
        "okt.morphs(c[:40])"
      ],
      "execution_count": 23,
      "outputs": [
        {
          "output_type": "execute_result",
          "data": {
            "text/plain": [
              "['대한민국',\n",
              " '헌법',\n",
              " '\\n\\n',\n",
              " '유구',\n",
              " '한',\n",
              " '역사',\n",
              " '와',\n",
              " '전통',\n",
              " '에',\n",
              " '빛나는',\n",
              " '우리',\n",
              " '대',\n",
              " '한',\n",
              " '국민',\n",
              " '은',\n",
              " '3',\n",
              " '·',\n",
              " '1',\n",
              " '운동',\n",
              " '으로']"
            ]
          },
          "metadata": {
            "tags": []
          },
          "execution_count": 23
        }
      ]
    },
    {
      "cell_type": "markdown",
      "metadata": {
        "id": "etnozj2MnQpc"
      },
      "source": [
        "## 품사 부착"
      ]
    },
    {
      "cell_type": "code",
      "metadata": {
        "colab": {
          "base_uri": "https://localhost:8080/"
        },
        "id": "wIruLyq1nDdv",
        "outputId": "5ac83c57-631a-47f3-f3f0-6888a9c1becf"
      },
      "source": [
        "hannanum.pos(c[:40])"
      ],
      "execution_count": 24,
      "outputs": [
        {
          "output_type": "execute_result",
          "data": {
            "text/plain": [
              "[('대한민국헌법', 'N'),\n",
              " ('유구', 'N'),\n",
              " ('하', 'X'),\n",
              " ('ㄴ', 'E'),\n",
              " ('역사', 'N'),\n",
              " ('와', 'J'),\n",
              " ('전통', 'N'),\n",
              " ('에', 'J'),\n",
              " ('빛', 'N'),\n",
              " ('나는', 'J'),\n",
              " ('우리', 'N'),\n",
              " ('대한국민', 'N'),\n",
              " ('은', 'J'),\n",
              " ('3·1운동', 'N'),\n",
              " ('으로', 'J')]"
            ]
          },
          "metadata": {
            "tags": []
          },
          "execution_count": 24
        }
      ]
    },
    {
      "cell_type": "code",
      "metadata": {
        "colab": {
          "base_uri": "https://localhost:8080/"
        },
        "id": "572zmfJlnmv4",
        "outputId": "72e2ef3e-2199-40e5-9be5-aa9ad0319e1d"
      },
      "source": [
        "kkma.pos(c[:40])"
      ],
      "execution_count": 25,
      "outputs": [
        {
          "output_type": "execute_result",
          "data": {
            "text/plain": [
              "[('대한민국', 'NNG'),\n",
              " ('헌법', 'NNG'),\n",
              " ('유구', 'NNG'),\n",
              " ('하', 'XSV'),\n",
              " ('ㄴ', 'ETD'),\n",
              " ('역사', 'NNG'),\n",
              " ('와', 'JC'),\n",
              " ('전통', 'NNG'),\n",
              " ('에', 'JKM'),\n",
              " ('빛나', 'VV'),\n",
              " ('는', 'ETD'),\n",
              " ('우리', 'NNM'),\n",
              " ('대하', 'VV'),\n",
              " ('ㄴ', 'ETD'),\n",
              " ('국민', 'NNG'),\n",
              " ('은', 'JX'),\n",
              " ('3', 'NR'),\n",
              " ('·', 'SP'),\n",
              " ('1', 'NR'),\n",
              " ('운동', 'NNG'),\n",
              " ('으로', 'JKM')]"
            ]
          },
          "metadata": {
            "tags": []
          },
          "execution_count": 25
        }
      ]
    },
    {
      "cell_type": "code",
      "metadata": {
        "colab": {
          "base_uri": "https://localhost:8080/"
        },
        "id": "rHFxLe5annBH",
        "outputId": "6f5778db-fb05-4234-8fd1-5015ad136a9b"
      },
      "source": [
        "# komoran은 빈줄이 있으면 에러가 남\n",
        "komoran.pos(\"\\n\".join([s for s in c[:40].split(\"\\n\") if s]))"
      ],
      "execution_count": 26,
      "outputs": [
        {
          "output_type": "execute_result",
          "data": {
            "text/plain": [
              "[('대한민국', 'NNP'),\n",
              " ('헌법', 'NNP'),\n",
              " ('유구', 'XR'),\n",
              " ('하', 'XSA'),\n",
              " ('ㄴ', 'ETM'),\n",
              " ('역사', 'NNG'),\n",
              " ('와', 'JC'),\n",
              " ('전통', 'NNG'),\n",
              " ('에', 'JKB'),\n",
              " ('빛나', 'VV'),\n",
              " ('는', 'ETM'),\n",
              " ('우리', 'NP'),\n",
              " ('대하', 'VV'),\n",
              " ('ㄴ', 'ETM'),\n",
              " ('국민', 'NNP'),\n",
              " ('은', 'JX'),\n",
              " ('3', 'SN'),\n",
              " ('·', 'SP'),\n",
              " ('1', 'SN'),\n",
              " ('운동', 'NNP'),\n",
              " ('으로', 'JKB')]"
            ]
          },
          "metadata": {
            "tags": []
          },
          "execution_count": 26
        }
      ]
    },
    {
      "cell_type": "code",
      "metadata": {
        "colab": {
          "base_uri": "https://localhost:8080/"
        },
        "id": "OpZWo9xBnnYA",
        "outputId": "ba389962-698d-42fa-97f3-8ba7bb97194e"
      },
      "source": [
        "okt.pos(c[:40])"
      ],
      "execution_count": 27,
      "outputs": [
        {
          "output_type": "execute_result",
          "data": {
            "text/plain": [
              "[('대한민국', 'Noun'),\n",
              " ('헌법', 'Noun'),\n",
              " ('\\n\\n', 'Foreign'),\n",
              " ('유구', 'Noun'),\n",
              " ('한', 'Josa'),\n",
              " ('역사', 'Noun'),\n",
              " ('와', 'Josa'),\n",
              " ('전통', 'Noun'),\n",
              " ('에', 'Josa'),\n",
              " ('빛나는', 'Verb'),\n",
              " ('우리', 'Noun'),\n",
              " ('대', 'Modifier'),\n",
              " ('한', 'Modifier'),\n",
              " ('국민', 'Noun'),\n",
              " ('은', 'Josa'),\n",
              " ('3', 'Number'),\n",
              " ('·', 'Punctuation'),\n",
              " ('1', 'Number'),\n",
              " ('운동', 'Noun'),\n",
              " ('으로', 'Josa')]"
            ]
          },
          "metadata": {
            "tags": []
          },
          "execution_count": 27
        }
      ]
    },
    {
      "cell_type": "code",
      "metadata": {
        "colab": {
          "base_uri": "https://localhost:8080/"
        },
        "id": "euERgxGanupg",
        "outputId": "fd98a6ef-7539-4dce-b372-e9f70ae5415e"
      },
      "source": [
        "okt.tagset\n",
        "# 부착되는 품사 태그의 기호와 의미는 tagset 속성으로 확인할 수 있다."
      ],
      "execution_count": 28,
      "outputs": [
        {
          "output_type": "execute_result",
          "data": {
            "text/plain": [
              "{'Adjective': '형용사',\n",
              " 'Adverb': '부사',\n",
              " 'Alpha': '알파벳',\n",
              " 'Conjunction': '접속사',\n",
              " 'Determiner': '관형사',\n",
              " 'Eomi': '어미',\n",
              " 'Exclamation': '감탄사',\n",
              " 'Foreign': '외국어, 한자 및 기타기호',\n",
              " 'Hashtag': '트위터 해쉬태그',\n",
              " 'Josa': '조사',\n",
              " 'KoreanParticle': '(ex: ㅋㅋ)',\n",
              " 'Noun': '명사',\n",
              " 'Number': '숫자',\n",
              " 'PreEomi': '선어말어미',\n",
              " 'Punctuation': '구두점',\n",
              " 'ScreenName': '트위터 아이디',\n",
              " 'Suffix': '접미사',\n",
              " 'Unknown': '미등록어',\n",
              " 'Verb': '동사'}"
            ]
          },
          "metadata": {
            "tags": []
          },
          "execution_count": 28
        }
      ]
    },
    {
      "cell_type": "code",
      "metadata": {
        "id": "k2zzURt_n8Hj"
      },
      "source": [
        "import pandas as pd"
      ],
      "execution_count": 29,
      "outputs": []
    },
    {
      "cell_type": "code",
      "metadata": {
        "colab": {
          "base_uri": "https://localhost:8080/",
          "height": 419
        },
        "id": "45apVjxAnyBw",
        "outputId": "628893b3-5743-4f1f-9e5d-2eba6e044267"
      },
      "source": [
        "tagsets = pd.DataFrame()\n",
        "N = 67\n",
        "tagsets[\"Hannanum-기호\"] = list(hannanum.tagset.keys()) + list(\"*\" * (N - len(hannanum.tagset)))\n",
        "tagsets[\"Hannanum-품사\"] = list(hannanum.tagset.values()) + list(\"*\" * (N - len(hannanum.tagset)))\n",
        "\n",
        "tagsets[\"Kkma-기호\"] = list(kkma.tagset.keys()) + list(\"*\" * (N - len(kkma.tagset)))\n",
        "tagsets[\"Kkma-품사\"] = list(kkma.tagset.values()) + list(\"*\" * (N - len(kkma.tagset)))\n",
        "\n",
        "tagsets[\"Komoran-기호\"] = list(komoran.tagset.keys()) + list(\"*\" * (N - len(komoran.tagset)))\n",
        "tagsets[\"Komoran-품사\"] = list(komoran.tagset.values()) + list(\"*\" * (N - len(komoran.tagset)))\n",
        "\n",
        "tagsets[\"OKT-기호\"] = list(okt.tagset.keys()) + list(\"*\" * (N - len(okt.tagset)))\n",
        "tagsets[\"OKT-품사\"] = list(okt.tagset.values()) + list(\"*\" * (N - len(okt.tagset)))\n",
        "tagsets"
      ],
      "execution_count": 30,
      "outputs": [
        {
          "output_type": "execute_result",
          "data": {
            "text/html": [
              "<div>\n",
              "<style scoped>\n",
              "    .dataframe tbody tr th:only-of-type {\n",
              "        vertical-align: middle;\n",
              "    }\n",
              "\n",
              "    .dataframe tbody tr th {\n",
              "        vertical-align: top;\n",
              "    }\n",
              "\n",
              "    .dataframe thead th {\n",
              "        text-align: right;\n",
              "    }\n",
              "</style>\n",
              "<table border=\"1\" class=\"dataframe\">\n",
              "  <thead>\n",
              "    <tr style=\"text-align: right;\">\n",
              "      <th></th>\n",
              "      <th>Hannanum-기호</th>\n",
              "      <th>Hannanum-품사</th>\n",
              "      <th>Kkma-기호</th>\n",
              "      <th>Kkma-품사</th>\n",
              "      <th>Komoran-기호</th>\n",
              "      <th>Komoran-품사</th>\n",
              "      <th>OKT-기호</th>\n",
              "      <th>OKT-품사</th>\n",
              "    </tr>\n",
              "  </thead>\n",
              "  <tbody>\n",
              "    <tr>\n",
              "      <th>0</th>\n",
              "      <td>E</td>\n",
              "      <td>어미</td>\n",
              "      <td>EC</td>\n",
              "      <td>연결 어미</td>\n",
              "      <td>EC</td>\n",
              "      <td>연결 어미</td>\n",
              "      <td>Adjective</td>\n",
              "      <td>형용사</td>\n",
              "    </tr>\n",
              "    <tr>\n",
              "      <th>1</th>\n",
              "      <td>EC</td>\n",
              "      <td>연결 어미</td>\n",
              "      <td>ECD</td>\n",
              "      <td>의존적 연결 어미</td>\n",
              "      <td>EF</td>\n",
              "      <td>종결 어미</td>\n",
              "      <td>Adverb</td>\n",
              "      <td>부사</td>\n",
              "    </tr>\n",
              "    <tr>\n",
              "      <th>2</th>\n",
              "      <td>EF</td>\n",
              "      <td>종결 어미</td>\n",
              "      <td>ECE</td>\n",
              "      <td>대등 연결 어미</td>\n",
              "      <td>EP</td>\n",
              "      <td>선어말어미</td>\n",
              "      <td>Alpha</td>\n",
              "      <td>알파벳</td>\n",
              "    </tr>\n",
              "    <tr>\n",
              "      <th>3</th>\n",
              "      <td>EP</td>\n",
              "      <td>선어말어미</td>\n",
              "      <td>ECS</td>\n",
              "      <td>보조적 연결 어미</td>\n",
              "      <td>ETM</td>\n",
              "      <td>관형형 전성 어미</td>\n",
              "      <td>Conjunction</td>\n",
              "      <td>접속사</td>\n",
              "    </tr>\n",
              "    <tr>\n",
              "      <th>4</th>\n",
              "      <td>ET</td>\n",
              "      <td>전성 어미</td>\n",
              "      <td>EF</td>\n",
              "      <td>종결 어미</td>\n",
              "      <td>ETN</td>\n",
              "      <td>명사형 전성 어미</td>\n",
              "      <td>Determiner</td>\n",
              "      <td>관형사</td>\n",
              "    </tr>\n",
              "    <tr>\n",
              "      <th>...</th>\n",
              "      <td>...</td>\n",
              "      <td>...</td>\n",
              "      <td>...</td>\n",
              "      <td>...</td>\n",
              "      <td>...</td>\n",
              "      <td>...</td>\n",
              "      <td>...</td>\n",
              "      <td>...</td>\n",
              "    </tr>\n",
              "    <tr>\n",
              "      <th>62</th>\n",
              "      <td>*</td>\n",
              "      <td>*</td>\n",
              "      <td>XPV</td>\n",
              "      <td>용언 접두사</td>\n",
              "      <td>*</td>\n",
              "      <td>*</td>\n",
              "      <td>*</td>\n",
              "      <td>*</td>\n",
              "    </tr>\n",
              "    <tr>\n",
              "      <th>63</th>\n",
              "      <td>*</td>\n",
              "      <td>*</td>\n",
              "      <td>XR</td>\n",
              "      <td>어근</td>\n",
              "      <td>*</td>\n",
              "      <td>*</td>\n",
              "      <td>*</td>\n",
              "      <td>*</td>\n",
              "    </tr>\n",
              "    <tr>\n",
              "      <th>64</th>\n",
              "      <td>*</td>\n",
              "      <td>*</td>\n",
              "      <td>XSA</td>\n",
              "      <td>형용사 파생 접미사</td>\n",
              "      <td>*</td>\n",
              "      <td>*</td>\n",
              "      <td>*</td>\n",
              "      <td>*</td>\n",
              "    </tr>\n",
              "    <tr>\n",
              "      <th>65</th>\n",
              "      <td>*</td>\n",
              "      <td>*</td>\n",
              "      <td>XSN</td>\n",
              "      <td>명사파생 접미사</td>\n",
              "      <td>*</td>\n",
              "      <td>*</td>\n",
              "      <td>*</td>\n",
              "      <td>*</td>\n",
              "    </tr>\n",
              "    <tr>\n",
              "      <th>66</th>\n",
              "      <td>*</td>\n",
              "      <td>*</td>\n",
              "      <td>XSV</td>\n",
              "      <td>동사 파생 접미사</td>\n",
              "      <td>*</td>\n",
              "      <td>*</td>\n",
              "      <td>*</td>\n",
              "      <td>*</td>\n",
              "    </tr>\n",
              "  </tbody>\n",
              "</table>\n",
              "<p>67 rows × 8 columns</p>\n",
              "</div>"
            ],
            "text/plain": [
              "   Hannanum-기호 Hannanum-품사 Kkma-기호  ... Komoran-품사       OKT-기호 OKT-품사\n",
              "0            E          어미      EC  ...      연결 어미    Adjective    형용사\n",
              "1           EC       연결 어미     ECD  ...      종결 어미       Adverb     부사\n",
              "2           EF       종결 어미     ECE  ...      선어말어미        Alpha    알파벳\n",
              "3           EP       선어말어미     ECS  ...  관형형 전성 어미  Conjunction    접속사\n",
              "4           ET       전성 어미      EF  ...  명사형 전성 어미   Determiner    관형사\n",
              "..         ...         ...     ...  ...        ...          ...    ...\n",
              "62           *           *     XPV  ...          *            *      *\n",
              "63           *           *      XR  ...          *            *      *\n",
              "64           *           *     XSA  ...          *            *      *\n",
              "65           *           *     XSN  ...          *            *      *\n",
              "66           *           *     XSV  ...          *            *      *\n",
              "\n",
              "[67 rows x 8 columns]"
            ]
          },
          "metadata": {
            "tags": []
          },
          "execution_count": 30
        }
      ]
    },
    {
      "cell_type": "code",
      "metadata": {
        "id": "UqKJP55Qn4tf"
      },
      "source": [
        "# koNLPy의 형태소 분석기와 NLTK의 Text 클래스를 결합하여 NLTK 기능을 사용"
      ],
      "execution_count": 39,
      "outputs": []
    },
    {
      "cell_type": "code",
      "metadata": {
        "colab": {
          "base_uri": "https://localhost:8080/"
        },
        "id": "yx-W0UMIst6n",
        "outputId": "6e9a8447-8e7b-4fd2-80a5-ff635f8c8d5a"
      },
      "source": [
        "# 나눔 폰트 설치\n",
        "\n",
        "!sudo apt-get install -y fonts-nanum\n",
        "!sudo fc-cache -fv\n",
        "!rm ~/.cache/matplotlib -rf"
      ],
      "execution_count": 66,
      "outputs": [
        {
          "output_type": "stream",
          "text": [
            "Reading package lists... Done\n",
            "Building dependency tree       \n",
            "Reading state information... Done\n",
            "fonts-nanum is already the newest version (20170925-1).\n",
            "0 upgraded, 0 newly installed, 0 to remove and 107 not upgraded.\n",
            "/usr/share/fonts: caching, new cache contents: 0 fonts, 1 dirs\n",
            "/usr/share/fonts/truetype: caching, new cache contents: 0 fonts, 4 dirs\n",
            "/usr/share/fonts/truetype/dejavu: caching, new cache contents: 22 fonts, 0 dirs\n",
            "/usr/share/fonts/truetype/humor-sans: caching, new cache contents: 1 fonts, 0 dirs\n",
            "/usr/share/fonts/truetype/liberation: caching, new cache contents: 16 fonts, 0 dirs\n",
            "/usr/share/fonts/truetype/nanum: caching, new cache contents: 31 fonts, 0 dirs\n",
            "/usr/local/share/fonts: caching, new cache contents: 0 fonts, 0 dirs\n",
            "/root/.local/share/fonts: skipping, no such directory\n",
            "/root/.fonts: skipping, no such directory\n",
            "/var/cache/fontconfig: cleaning cache directory\n",
            "/root/.cache/fontconfig: not cleaning non-existent cache directory\n",
            "/root/.fontconfig: not cleaning non-existent cache directory\n",
            "fc-cache: succeeded\n"
          ],
          "name": "stdout"
        }
      ]
    },
    {
      "cell_type": "code",
      "metadata": {
        "id": "4VBoeD2fq8BQ"
      },
      "source": [
        "!apt-get update -qq\n",
        "!apt-get install fonts-nanum* -qq"
      ],
      "execution_count": 53,
      "outputs": []
    },
    {
      "cell_type": "code",
      "metadata": {
        "colab": {
          "base_uri": "https://localhost:8080/"
        },
        "id": "F252vj7WrDDn",
        "outputId": "5428d06b-92c6-435b-9802-056fae5c74ed"
      },
      "source": [
        "nanum_font"
      ],
      "execution_count": 55,
      "outputs": [
        {
          "output_type": "execute_result",
          "data": {
            "text/plain": [
              "['/usr/share/fonts/truetype/nanum/NanumSquareRoundEB.ttf',\n",
              " '/usr/share/fonts/truetype/nanum/NanumGothicLight.ttf',\n",
              " '/usr/share/fonts/truetype/nanum/NanumSquareR.ttf',\n",
              " '/usr/share/fonts/truetype/nanum/NanumBarunGothicLight.ttf',\n",
              " '/usr/share/fonts/truetype/nanum/NanumSquareRoundB.ttf',\n",
              " '/usr/share/fonts/truetype/nanum/NanumBarunpenB.ttf',\n",
              " '/usr/share/fonts/truetype/nanum/NanumPen.ttf',\n",
              " '/usr/share/fonts/truetype/nanum/NanumSquareRoundL.ttf',\n",
              " '/usr/share/fonts/truetype/nanum/NanumGothicBold.ttf',\n",
              " '/usr/share/fonts/truetype/nanum/NanumBarunGothicUltraLight.ttf',\n",
              " '/usr/share/fonts/truetype/nanum/NanumMyeongjoEcoBold.ttf',\n",
              " '/usr/share/fonts/truetype/nanum/NanumSquareRoundR.ttf',\n",
              " '/usr/share/fonts/truetype/nanum/NanumGothicCoding.ttf',\n",
              " '/usr/share/fonts/truetype/nanum/NanumGothicExtraBold.ttf',\n",
              " '/usr/share/fonts/truetype/nanum/NanumMyeongjoEcoExtraBold.ttf',\n",
              " '/usr/share/fonts/truetype/nanum/NanumMyeongjoBold.ttf',\n",
              " '/usr/share/fonts/truetype/nanum/NanumGothicEcoExtraBold.ttf',\n",
              " '/usr/share/fonts/truetype/nanum/NanumMyeongjoEco.ttf',\n",
              " '/usr/share/fonts/truetype/nanum/NanumSquareL.ttf',\n",
              " '/usr/share/fonts/truetype/nanum/NanumMyeongjoExtraBold.ttf',\n",
              " '/usr/share/fonts/truetype/nanum/NanumBrush.ttf',\n",
              " '/usr/share/fonts/truetype/nanum/NanumMyeongjo.ttf',\n",
              " '/usr/share/fonts/truetype/nanum/NanumGothic.ttf',\n",
              " '/usr/share/fonts/truetype/nanum/NanumGothicEco.ttf',\n",
              " '/usr/share/fonts/truetype/nanum/NanumSquareEB.ttf',\n",
              " '/usr/share/fonts/truetype/nanum/NanumGothicEcoBold.ttf',\n",
              " '/usr/share/fonts/truetype/nanum/NanumBarunpenR.ttf',\n",
              " '/usr/share/fonts/truetype/nanum/NanumBarunGothicBold.ttf',\n",
              " '/usr/share/fonts/truetype/nanum/NanumSquareB.ttf',\n",
              " '/usr/share/fonts/truetype/nanum/NanumBarunGothic.ttf',\n",
              " '/usr/share/fonts/truetype/nanum/NanumGothicCoding-Bold.ttf']"
            ]
          },
          "metadata": {
            "tags": []
          },
          "execution_count": 55
        }
      ]
    },
    {
      "cell_type": "code",
      "metadata": {
        "colab": {
          "base_uri": "https://localhost:8080/"
        },
        "id": "QQjClO3srQQf",
        "outputId": "2bb1f986-92fd-49c4-a2b6-634a1f12b8a1"
      },
      "source": [
        "# 현재 설정되어 있는 폰트 사이즈와 글꼴을 알아보자\n",
        "!python --version\n",
        "def current_font():\n",
        "  print(f\"설정 폰트 글꼴: {plt.rcParams['font.family']}, 설정 폰트 사이즈: {plt.rcParams['font.size']}\")  # 파이썬 3.6 이상 사용가능하다\n",
        "        \n",
        "current_font()"
      ],
      "execution_count": 57,
      "outputs": [
        {
          "output_type": "stream",
          "text": [
            "Python 3.7.11\n",
            "설정 폰트 글꼴: ['NanumSquareRound'], 설정 폰트 사이즈: 10.0\n"
          ],
          "name": "stdout"
        }
      ]
    },
    {
      "cell_type": "code",
      "metadata": {
        "colab": {
          "base_uri": "https://localhost:8080/",
          "height": 323
        },
        "id": "6iGZ5kiqoIsP",
        "outputId": "0aa9acbb-6290-405b-f7cb-5ab820fe23d7"
      },
      "source": [
        "from nltk import Text\n",
        "\n",
        "# 한글폰트 사용 in colab\n",
        "%matplotlib inline  \n",
        "import matplotlib.pyplot as plt\n",
        "import matplotlib as mpl \n",
        "import matplotlib.font_manager as fm  \n",
        "\n",
        "# 우선 fm._rebuild() 를 해주고\n",
        "fm._rebuild()\n",
        "\n",
        "path = '/usr/share/fonts/truetype/nanum/NanumSquareRoundB.ttf'  # 설치된 나눔글꼴중 원하는 녀석의 전체 경로를 가져오자\n",
        "font_name = fm.FontProperties(fname=path, size=10).get_name()\n",
        "print(font_name)\n",
        "plt.rc('font', family=font_name)\n",
        "mpl.rcParams['axes.unicode_minus'] = False\n",
        "\n",
        "kolaw = Text(okt.nouns(c), name=\"kolaw\")\n",
        "kolaw.plot(30)\n",
        "plt.show()"
      ],
      "execution_count": 32,
      "outputs": [
        {
          "output_type": "stream",
          "text": [
            "NanumSquareRound\n"
          ],
          "name": "stdout"
        },
        {
          "output_type": "display_data",
          "data": {
            "image/png": "[encoded data removed]",
            "text/plain": [
              "<Figure size 432x288 with 1 Axes>"
            ]
          },
          "metadata": {
            "tags": [],
            "needs_background": "light"
          }
        }
      ]
    },
    {
      "cell_type": "markdown",
      "metadata": {
        "id": "2Yzb58KZuf04"
      },
      "source": [
        "## 워드 클라우드"
      ]
    },
    {
      "cell_type": "code",
      "metadata": {
        "colab": {
          "base_uri": "https://localhost:8080/",
          "height": 232
        },
        "id": "9nt0K5P4oMwf",
        "outputId": "ddd132b0-00e9-4beb-c436-d0a76f467ee3"
      },
      "source": [
        "from wordcloud import WordCloud\n",
        "\n",
        "font_path = '/usr/share/fonts/truetype/nanum/NanumGothic.ttf'\n",
        "wc = WordCloud(width = 1000, height = 600, background_color=\"white\", font_path=font_path)\n",
        "plt.imshow(wc.generate_from_frequencies(kolaw.vocab()))\n",
        "plt.axis(\"off\")\n",
        "plt.show()"
      ],
      "execution_count": 34,
      "outputs": [
        {
          "output_type": "display_data",
          "data": {
            "image/png": "[encoded data removed]",
            "text/plain": [
              "<Figure size 432x288 with 1 Axes>"
            ]
          },
          "metadata": {
            "tags": [],
            "needs_background": "light"
          }
        }
      ]
    },
    {
      "cell_type": "markdown",
      "metadata": {
        "id": "RfcxX4hhu9HV"
      },
      "source": [
        "##scikit-learn의 문서 전처리 기능\n",
        "\n",
        "- Scikit-Learn의 feature_extraction 서브패키지와 feature_extraction.text 서브패키지는 다음과 같은 문서 전처리용 클래스를 제공한다.\n",
        "\n",
        "- DictVectorizer:\n",
        "각 단어의 수를 세어놓은 사전에서 BOW 인코딩 벡터를 만든다.\n",
        "\n",
        "- CountVectorizer:\n",
        "문서 집합에서 단어 토큰을 생성하고 각 단어의 수를 세어 BOW 인코딩 벡터를 만든다.\n",
        "\n",
        "- TfidfVectorizer:\n",
        "CountVectorizer와 비슷하지만 TF-IDF 방식으로 단어의 가중치를 조정한 BOW 인코딩 벡터를 만든다.\n",
        "\n",
        "- HashingVectorizer:\n",
        "해시 함수(hash function)을 사용하여 적은 메모리와 빠른 속도로 BOW 인코딩 벡터를 만든다."
      ]
    },
    {
      "cell_type": "code",
      "metadata": {
        "colab": {
          "base_uri": "https://localhost:8080/"
        },
        "id": "-2qzvTSVukae",
        "outputId": "7dd3da21-5393-4b68-a061-0dcf94635494"
      },
      "source": [
        "from sklearn.feature_extraction import DictVectorizer\n",
        "\n",
        "# 문서에서 단어 사용 빈도를 나타내는 딕셔너리 정보 입력받아 BOW 인코딩한 수치 벡터로 변환\n",
        "\n",
        "v = DictVectorizer(sparse=False)\n",
        "D = [{'A':1, 'B':2}, {'B':3, 'C':1, 'D':1}]\n",
        "x = v.fit_transform(D)\n",
        "x"
      ],
      "execution_count": 43,
      "outputs": [
        {
          "output_type": "execute_result",
          "data": {
            "text/plain": [
              "array([[1., 2., 0., 0.],\n",
              "       [0., 3., 1., 1.]])"
            ]
          },
          "metadata": {
            "tags": []
          },
          "execution_count": 43
        }
      ]
    },
    {
      "cell_type": "code",
      "metadata": {
        "colab": {
          "base_uri": "https://localhost:8080/"
        },
        "id": "bTsaM-NawVBu",
        "outputId": "609b297f-ac99-4429-8fee-c93ed19eb246"
      },
      "source": [
        "v.feature_names_"
      ],
      "execution_count": 44,
      "outputs": [
        {
          "output_type": "execute_result",
          "data": {
            "text/plain": [
              "['A', 'B', 'C', 'D']"
            ]
          },
          "metadata": {
            "tags": []
          },
          "execution_count": 44
        }
      ]
    },
    {
      "cell_type": "code",
      "metadata": {
        "colab": {
          "base_uri": "https://localhost:8080/"
        },
        "id": "h0syEXxFwYd2",
        "outputId": "e06954ce-0093-4809-b634-352b9f737a3d"
      },
      "source": [
        "v.transform({'C':4, 'D': 3})\n",
        "# transform은 뭘 의미?\n",
        "# 앞에서 D문서에서 C까지만 입력했을 때 v.transform D는 보이지 않았음"
      ],
      "execution_count": 45,
      "outputs": [
        {
          "output_type": "execute_result",
          "data": {
            "text/plain": [
              "array([[0., 0., 4., 3.]])"
            ]
          },
          "metadata": {
            "tags": []
          },
          "execution_count": 45
        }
      ]
    },
    {
      "cell_type": "markdown",
      "metadata": {
        "id": "ADTwcf9KxHaS"
      },
      "source": [
        "## CountVectorizer\n",
        "\n",
        "- 문서를 토큰 리스트로 변환\n",
        "- 문서에서 토큰 출현 빈도를 셈\n",
        "- 각 문서를 BOW 인코딩 벡터로 변환"
      ]
    },
    {
      "cell_type": "code",
      "metadata": {
        "colab": {
          "base_uri": "https://localhost:8080/"
        },
        "id": "4UlEg1rRwc1O",
        "outputId": "ba7a8276-ffeb-478d-a048-bd338637481b"
      },
      "source": [
        " from sklearn.feature_extraction.text import CountVectorizer\n",
        "\n",
        " corpus = [\n",
        "           \n",
        "    'This is the first document.',\n",
        "    'This is the second second document.',\n",
        "    'And the third one.',\n",
        "    'Is this the first document?',\n",
        "    'The last document?',\n",
        "\n",
        " ]\n",
        "\n",
        " vect = CountVectorizer()\n",
        " vect.fit(corpus)\n",
        " vect.vocabulary_"
      ],
      "execution_count": 39,
      "outputs": [
        {
          "output_type": "execute_result",
          "data": {
            "text/plain": [
              "{'and': 0,\n",
              " 'document': 1,\n",
              " 'first': 2,\n",
              " 'is': 3,\n",
              " 'last': 4,\n",
              " 'one': 5,\n",
              " 'second': 6,\n",
              " 'the': 7,\n",
              " 'third': 8,\n",
              " 'this': 9}"
            ]
          },
          "metadata": {
            "tags": []
          },
          "execution_count": 39
        }
      ]
    },
    {
      "cell_type": "code",
      "metadata": {
        "colab": {
          "base_uri": "https://localhost:8080/"
        },
        "id": "P4CJ54xVxxuu",
        "outputId": "d2b4e855-8091-48c9-95ab-d4e7bc8139d7"
      },
      "source": [
        "# 두번째 문장 문서를 BOW인코딩 벡터로 변환\n",
        "# 앞의 토큰리스트 순서대로 없는 토큰은 0, 있는 토큰은 1로 나타냄\n",
        "vect.transform(['This is the second document']).toarray()"
      ],
      "execution_count": 40,
      "outputs": [
        {
          "output_type": "execute_result",
          "data": {
            "text/plain": [
              "array([[0, 1, 0, 1, 0, 0, 1, 1, 0, 1]])"
            ]
          },
          "metadata": {
            "tags": []
          },
          "execution_count": 40
        }
      ]
    },
    {
      "cell_type": "code",
      "metadata": {
        "colab": {
          "base_uri": "https://localhost:8080/"
        },
        "id": "tPfd-CUAyYzH",
        "outputId": "7ae36d81-e322-497c-df25-7ecc8f893d77"
      },
      "source": [
        "vect.transform(['Something completely new.']).toarray()"
      ],
      "execution_count": 41,
      "outputs": [
        {
          "output_type": "execute_result",
          "data": {
            "text/plain": [
              "array([[0, 0, 0, 0, 0, 0, 0, 0, 0, 0]])"
            ]
          },
          "metadata": {
            "tags": []
          },
          "execution_count": 41
        }
      ]
    },
    {
      "cell_type": "code",
      "metadata": {
        "colab": {
          "base_uri": "https://localhost:8080/"
        },
        "id": "Xx0zsnwzzAIm",
        "outputId": "f3c8509b-d87e-4192-9bd0-669b2b09d4c9"
      },
      "source": [
        "# corpust 전체 문장을 Bow 인코딩 벡터로 변환해보기\n",
        "vect.transform(corpus).toarray()"
      ],
      "execution_count": 42,
      "outputs": [
        {
          "output_type": "execute_result",
          "data": {
            "text/plain": [
              "array([[0, 1, 1, 1, 0, 0, 0, 1, 0, 1],\n",
              "       [0, 1, 0, 1, 0, 0, 2, 1, 0, 1],\n",
              "       [1, 0, 0, 0, 0, 1, 0, 1, 1, 0],\n",
              "       [0, 1, 1, 1, 0, 0, 0, 1, 0, 1],\n",
              "       [0, 1, 0, 0, 1, 0, 0, 1, 0, 0]])"
            ]
          },
          "metadata": {
            "tags": []
          },
          "execution_count": 42
        }
      ]
    },
    {
      "cell_type": "markdown",
      "metadata": {
        "id": "Ybq9qNF30D3p"
      },
      "source": [
        "Stop words\n",
        "- 문서에서 단어장을 생성할 때 무시할 수 있는 단어를 말한다. 보통 영어의 관사나 접속사, 한국어의 조사 등이 여기에 해당한다. \n",
        "- stop_words 인수로 조절할 수 있다."
      ]
    },
    {
      "cell_type": "code",
      "metadata": {
        "colab": {
          "base_uri": "https://localhost:8080/"
        },
        "id": "VSEZTrPozLnu",
        "outputId": "b5be8db9-a09e-402d-db12-0b74f2130992"
      },
      "source": [
        "vect = CountVectorizer(stop_words=[\"and\",\"is\",\"the\",\"this\"]).fit(corpus)\n",
        "vect.vocabulary_"
      ],
      "execution_count": 46,
      "outputs": [
        {
          "output_type": "execute_result",
          "data": {
            "text/plain": [
              "{'document': 0, 'first': 1, 'last': 2, 'one': 3, 'second': 4, 'third': 5}"
            ]
          },
          "metadata": {
            "tags": []
          },
          "execution_count": 46
        }
      ]
    },
    {
      "cell_type": "code",
      "metadata": {
        "colab": {
          "base_uri": "https://localhost:8080/"
        },
        "id": "IrqcfXmL0h69",
        "outputId": "d7eb5879-204f-4844-881a-bb6a5c0a4516"
      },
      "source": [
        "vect = CountVectorizer(stop_words=\"english\").fit(corpus)\n",
        "vect.vocabulary_"
      ],
      "execution_count": 47,
      "outputs": [
        {
          "output_type": "execute_result",
          "data": {
            "text/plain": [
              "{'document': 0, 'second': 1}"
            ]
          },
          "metadata": {
            "tags": []
          },
          "execution_count": 47
        }
      ]
    },
    {
      "cell_type": "markdown",
      "metadata": {
        "id": "-pV6GSvO06WR"
      },
      "source": [
        "## 토큰\n",
        " - analyzer, tokenizer, token_pattern 등의 인수로 사용할 토큰 생성기를 선택할 수 있다.토큰 생성기를 선택할 수 있다."
      ]
    },
    {
      "cell_type": "code",
      "metadata": {
        "colab": {
          "base_uri": "https://localhost:8080/"
        },
        "id": "D0gfthlv0t6O",
        "outputId": "a033c1dd-78a1-42f7-c90b-1a052b17b5e7"
      },
      "source": [
        "vect = CountVectorizer(analyzer=\"char\").fit(corpus)\n",
        "vect.vocabulary_\n",
        "# 각 문자별 최소 단위 1글자 리스로 출력"
      ],
      "execution_count": 48,
      "outputs": [
        {
          "output_type": "execute_result",
          "data": {
            "text/plain": [
              "{' ': 0,\n",
              " '.': 1,\n",
              " '?': 2,\n",
              " 'a': 3,\n",
              " 'c': 4,\n",
              " 'd': 5,\n",
              " 'e': 6,\n",
              " 'f': 7,\n",
              " 'h': 8,\n",
              " 'i': 9,\n",
              " 'l': 10,\n",
              " 'm': 11,\n",
              " 'n': 12,\n",
              " 'o': 13,\n",
              " 'r': 14,\n",
              " 's': 15,\n",
              " 't': 16,\n",
              " 'u': 17}"
            ]
          },
          "metadata": {
            "tags": []
          },
          "execution_count": 48
        }
      ]
    },
    {
      "cell_type": "code",
      "metadata": {
        "colab": {
          "base_uri": "https://localhost:8080/"
        },
        "id": "mZejqmbu1PiV",
        "outputId": "825032a3-95a2-4117-b27f-250c668a8273"
      },
      "source": [
        "vect = CountVectorizer(token_pattern=\"t\\w+\").fit(corpus)\n",
        "vect.vocabulary_\n",
        "# t\\w+ 패턴 의미는?"
      ],
      "execution_count": 50,
      "outputs": [
        {
          "output_type": "execute_result",
          "data": {
            "text/plain": [
              "{'the': 0, 'third': 1, 'this': 2}"
            ]
          },
          "metadata": {
            "tags": []
          },
          "execution_count": 50
        }
      ]
    },
    {
      "cell_type": "code",
      "metadata": {
        "colab": {
          "base_uri": "https://localhost:8080/"
        },
        "id": "pKOFxJDC2JEp",
        "outputId": "210d388c-2749-496c-a142-22247eb3e523"
      },
      "source": [
        "import nltk\n",
        "nltk.download('punkt')"
      ],
      "execution_count": 54,
      "outputs": [
        {
          "output_type": "stream",
          "text": [
            "[nltk_data] Downloading package punkt to /root/nltk_data...\n",
            "[nltk_data]   Unzipping tokenizers/punkt.zip.\n"
          ],
          "name": "stdout"
        },
        {
          "output_type": "execute_result",
          "data": {
            "text/plain": [
              "True"
            ]
          },
          "metadata": {
            "tags": []
          },
          "execution_count": 54
        }
      ]
    },
    {
      "cell_type": "code",
      "metadata": {
        "colab": {
          "base_uri": "https://localhost:8080/"
        },
        "id": "Q_SgOhgE104F",
        "outputId": "b089653a-9e1b-4c5b-be00-fa8e2f821397"
      },
      "source": [
        "vect = CountVectorizer(tokenizer=nltk.word_tokenize).fit(corpus)\n",
        "vect.vocabulary_"
      ],
      "execution_count": 55,
      "outputs": [
        {
          "output_type": "execute_result",
          "data": {
            "text/plain": [
              "{'.': 0,\n",
              " '?': 1,\n",
              " 'and': 2,\n",
              " 'document': 3,\n",
              " 'first': 4,\n",
              " 'is': 5,\n",
              " 'last': 6,\n",
              " 'one': 7,\n",
              " 'second': 8,\n",
              " 'the': 9,\n",
              " 'third': 10,\n",
              " 'this': 11}"
            ]
          },
          "metadata": {
            "tags": []
          },
          "execution_count": 55
        }
      ]
    },
    {
      "cell_type": "markdown",
      "metadata": {
        "id": "-_m8abkm23ZV"
      },
      "source": [
        "## N그램\n",
        "- N그램은 단어장 생성에 사용할 토큰의 크기를 결정한다. 모노그램(monogram)은 토큰 하나만 단어로 사용하며 바이그램(bigram)은 두 개의 연결된 토큰을 하나의 단어로 사용한다"
      ]
    },
    {
      "cell_type": "code",
      "metadata": {
        "colab": {
          "base_uri": "https://localhost:8080/"
        },
        "id": "GGhBZ12k2CmN",
        "outputId": "710de241-c645-4aab-fc8b-1f6bce0d278e"
      },
      "source": [
        "# 단어에 사용할 토큰의 크기 결정\n",
        "# 두 단어 사용\n",
        "vect = CountVectorizer(ngram_range=(2, 2)).fit(corpus)\n",
        "vect.vocabulary_"
      ],
      "execution_count": 56,
      "outputs": [
        {
          "output_type": "execute_result",
          "data": {
            "text/plain": [
              "{'and the': 0,\n",
              " 'first document': 1,\n",
              " 'is the': 2,\n",
              " 'is this': 3,\n",
              " 'last document': 4,\n",
              " 'second document': 5,\n",
              " 'second second': 6,\n",
              " 'the first': 7,\n",
              " 'the last': 8,\n",
              " 'the second': 9,\n",
              " 'the third': 10,\n",
              " 'third one': 11,\n",
              " 'this is': 12,\n",
              " 'this the': 13}"
            ]
          },
          "metadata": {
            "tags": []
          },
          "execution_count": 56
        }
      ]
    },
    {
      "cell_type": "code",
      "metadata": {
        "colab": {
          "base_uri": "https://localhost:8080/"
        },
        "id": "60mkS5GG3XI9",
        "outputId": "e0c43e2c-65d0-429c-d6e3-e17ab03f2b11"
      },
      "source": [
        "vect = CountVectorizer(ngram_range=(1, 2), token_pattern=\"t\\w+\").fit(corpus)\n",
        "vect.vocabulary_"
      ],
      "execution_count": 57,
      "outputs": [
        {
          "output_type": "execute_result",
          "data": {
            "text/plain": [
              "{'the': 0, 'the third': 1, 'third': 2, 'this': 3, 'this the': 4}"
            ]
          },
          "metadata": {
            "tags": []
          },
          "execution_count": 57
        }
      ]
    },
    {
      "cell_type": "markdown",
      "metadata": {
        "id": "iMc0SoEC37hR"
      },
      "source": [
        "## 빈도수\n",
        "- max_df, min_df 인수를 사용하여 문서에서 토큰이 나타난 횟수를 기준으로 단어장을 구성할 수도 있다. 토큰의 빈도가 max_df로 지정한 값을 초과 하거나 min_df로 지정한 값보다 작은 경우에는 무시한다. 인수 값은 정수인 경우 횟수, 부동소수점인 경우 비중을 뜻한다."
      ]
    },
    {
      "cell_type": "code",
      "metadata": {
        "colab": {
          "base_uri": "https://localhost:8080/"
        },
        "id": "wnmnUYZp30D9",
        "outputId": "ab567694-0f62-494c-b501-f389a5b5d9fe"
      },
      "source": [
        "vect = CountVectorizer(max_df=4, min_df=2).fit(corpus)\n",
        "vect.vocabulary_, vect.stop_words_\n",
        "# 2~4빈도수 토큰 기준으로 단어장 구성"
      ],
      "execution_count": 61,
      "outputs": [
        {
          "output_type": "execute_result",
          "data": {
            "text/plain": [
              "({'document': 0, 'first': 1, 'is': 2, 'this': 3},\n",
              " {'and', 'last', 'one', 'second', 'the', 'third'})"
            ]
          },
          "metadata": {
            "tags": []
          },
          "execution_count": 61
        }
      ]
    },
    {
      "cell_type": "markdown",
      "metadata": {
        "id": "qS6eWaON9UUF"
      },
      "source": [
        "## TF-IDF\n",
        "- TF-IDF(Term Frequency – Inverse Document Frequency) 인코딩은 단어를 갯수 그대로 카운트하지 않고 모든 문서에 공통적으로 들어있는 단어의 경우 문서 구별 능력이 떨어진다고 보아 가중치를 축소하는 방법이다."
      ]
    },
    {
      "cell_type": "code",
      "metadata": {
        "colab": {
          "base_uri": "https://localhost:8080/"
        },
        "id": "cMO7Lp9a9Tkc",
        "outputId": "f98eba85-5f12-47ef-ffe1-d5e7e8b44680"
      },
      "source": [
        "from sklearn.feature_extraction.text import TfidfVectorizer\n",
        "\n",
        "tfidv = TfidfVectorizer().fit(corpus)\n",
        "tfidv.transform(corpus).toarray()\n",
        "# 모든 문서에 공통적으로 들어 있는 단어의 가중치를 축소"
      ],
      "execution_count": 62,
      "outputs": [
        {
          "output_type": "execute_result",
          "data": {
            "text/plain": [
              "array([[0.        , 0.38947624, 0.55775063, 0.4629834 , 0.        ,\n",
              "        0.        , 0.        , 0.32941651, 0.        , 0.4629834 ],\n",
              "       [0.        , 0.24151532, 0.        , 0.28709733, 0.        ,\n",
              "        0.        , 0.85737594, 0.20427211, 0.        , 0.28709733],\n",
              "       [0.55666851, 0.        , 0.        , 0.        , 0.        ,\n",
              "        0.55666851, 0.        , 0.26525553, 0.55666851, 0.        ],\n",
              "       [0.        , 0.38947624, 0.55775063, 0.4629834 , 0.        ,\n",
              "        0.        , 0.        , 0.32941651, 0.        , 0.4629834 ],\n",
              "       [0.        , 0.45333103, 0.        , 0.        , 0.80465933,\n",
              "        0.        , 0.        , 0.38342448, 0.        , 0.        ]])"
            ]
          },
          "metadata": {
            "tags": []
          },
          "execution_count": 62
        }
      ]
    },
    {
      "cell_type": "markdown",
      "metadata": {
        "id": "2IQA31UH-Qpw"
      },
      "source": [
        "## Hashing Trick\n",
        "\n",
        "- CountVectorizer는 모든 작업을 메모리 상에서 수행하므로 처리할 문서의 크기가 커지면 속도가 느려지거나 실행이 불가능해진다. 이 때 HashingVectorizer를 사용하면 해시 함수를 사용하여 단어에 대한 인덱스 번호를 생성하기 때문에 메모리 및 실행 시간을 줄일 수 있다."
      ]
    },
    {
      "cell_type": "code",
      "metadata": {
        "colab": {
          "base_uri": "https://localhost:8080/"
        },
        "id": "AMyHwTKh8rrc",
        "outputId": "15ba9673-e791-4fc1-df37-571dca9fa683"
      },
      "source": [
        "from sklearn.datasets import fetch_20newsgroups\n",
        "\n",
        "twenty = fetch_20newsgroups()\n",
        "len(twenty.data)\n",
        "# 데이터셋 다운"
      ],
      "execution_count": 63,
      "outputs": [
        {
          "output_type": "stream",
          "text": [
            "Downloading 20news dataset. This may take a few minutes.\n",
            "Downloading dataset from https://ndownloader.figshare.com/files/5975967 (14 MB)\n"
          ],
          "name": "stderr"
        },
        {
          "output_type": "execute_result",
          "data": {
            "text/plain": [
              "11314"
            ]
          },
          "metadata": {
            "tags": []
          },
          "execution_count": 63
        }
      ]
    },
    {
      "cell_type": "code",
      "metadata": {
        "colab": {
          "base_uri": "https://localhost:8080/"
        },
        "id": "7kzbUf9E-mSE",
        "outputId": "305d4ecb-547b-437e-d906-cd106c6856c7"
      },
      "source": [
        "# CountVectorizer 데이터 처리 속도 확인하기\n",
        "%time CountVectorizer().fit(twenty.data).transform(twenty.data)"
      ],
      "execution_count": 64,
      "outputs": [
        {
          "output_type": "stream",
          "text": [
            "CPU times: user 9.79 s, sys: 48.3 ms, total: 9.83 s\n",
            "Wall time: 8.14 s\n"
          ],
          "name": "stdout"
        },
        {
          "output_type": "execute_result",
          "data": {
            "text/plain": [
              "<11314x130107 sparse matrix of type '<class 'numpy.int64'>'\n",
              "\twith 1787565 stored elements in Compressed Sparse Row format>"
            ]
          },
          "metadata": {
            "tags": []
          },
          "execution_count": 64
        }
      ]
    },
    {
      "cell_type": "code",
      "metadata": {
        "id": "Izy-rw6R-6Br"
      },
      "source": [
        "# Hashing 데이터 처리 속도 확인하기\n",
        "from sklearn.feature_extraction.text import HashingVectorizer\n",
        "hv = HashingVectorizer(n_features=300000)"
      ],
      "execution_count": 65,
      "outputs": []
    },
    {
      "cell_type": "code",
      "metadata": {
        "colab": {
          "base_uri": "https://localhost:8080/"
        },
        "id": "lC8EJoRs_TIk",
        "outputId": "ef26ba0a-4986-4960-e647-95a0b97838b8"
      },
      "source": [
        "%time hv.transform(twenty.data)\n",
        "# wall time 속도가 훨씬 개선"
      ],
      "execution_count": 66,
      "outputs": [
        {
          "output_type": "stream",
          "text": [
            "CPU times: user 2.27 s, sys: 11.2 ms, total: 2.28 s\n",
            "Wall time: 2.28 s\n"
          ],
          "name": "stdout"
        },
        {
          "output_type": "execute_result",
          "data": {
            "text/plain": [
              "<11314x300000 sparse matrix of type '<class 'numpy.float64'>'\n",
              "\twith 1786336 stored elements in Compressed Sparse Row format>"
            ]
          },
          "metadata": {
            "tags": []
          },
          "execution_count": 66
        }
      ]
    },
    {
      "cell_type": "markdown",
      "metadata": {
        "id": "_wYud9YR_w-c"
      },
      "source": [
        "## 웹사이트 특정 단어 빈도수 알아보기 예시"
      ]
    },
    {
      "cell_type": "code",
      "metadata": {
        "id": "mMlGzfSR_XzU"
      },
      "source": [
        "import warnings\n",
        "warnings.simplefilter(\"ignore\")\n",
        "\n",
        "import json\n",
        "import string\n",
        "from urllib.request import urlopen\n",
        "from konlpy.utils import pprint\n",
        "from konlpy.tag import Hannanum\n"
      ],
      "execution_count": 67,
      "outputs": []
    },
    {
      "cell_type": "code",
      "metadata": {
        "colab": {
          "base_uri": "https://localhost:8080/",
          "height": 376
        },
        "id": "EJyYSXhN__Mc",
        "outputId": "fa1cf520-f2b7-446d-9d5b-87b00f16b0b8"
      },
      "source": [
        "hannanum = Hannanum()\n",
        "\n",
        "f = urlopen(\"https://fastcampus.co.kr/data_online_dataadv\")\n",
        "json = json.loads(f.read())\n",
        "\n",
        "cell = [\"\\n\".join(c[\"source\"]) for c in json[\"cells\"] if c[\"cell_type\"] == \"markdown\"]\n",
        "docs = [\n",
        "    w for w in hannanum.nouns(\" \".join(cell)) \n",
        "    if ((not w[0].isnumeric()) and (w[0] not in string.punctuation))\n",
        "]"
      ],
      "execution_count": 71,
      "outputs": [
        {
          "output_type": "error",
          "ename": "JSONDecodeError",
          "evalue": "ignored",
          "traceback": [
            "\u001b[0;31m---------------------------------------------------------------------------\u001b[0m",
            "\u001b[0;31mJSONDecodeError\u001b[0m                           Traceback (most recent call last)",
            "\u001b[0;32m<ipython-input-71-c412b931fe47>\u001b[0m in \u001b[0;36m<module>\u001b[0;34m()\u001b[0m\n\u001b[1;32m      2\u001b[0m \u001b[0;34m\u001b[0m\u001b[0m\n\u001b[1;32m      3\u001b[0m \u001b[0mf\u001b[0m \u001b[0;34m=\u001b[0m \u001b[0murlopen\u001b[0m\u001b[0;34m(\u001b[0m\u001b[0;34m\"https://araikuma.tistory.com/339\"\u001b[0m\u001b[0;34m)\u001b[0m\u001b[0;34m\u001b[0m\u001b[0;34m\u001b[0m\u001b[0m\n\u001b[0;32m----> 4\u001b[0;31m \u001b[0mjson\u001b[0m \u001b[0;34m=\u001b[0m \u001b[0mjson\u001b[0m\u001b[0;34m.\u001b[0m\u001b[0mloads\u001b[0m\u001b[0;34m(\u001b[0m\u001b[0mf\u001b[0m\u001b[0;34m.\u001b[0m\u001b[0mread\u001b[0m\u001b[0;34m(\u001b[0m\u001b[0;34m)\u001b[0m\u001b[0;34m)\u001b[0m\u001b[0;34m\u001b[0m\u001b[0;34m\u001b[0m\u001b[0m\n\u001b[0m\u001b[1;32m      5\u001b[0m \u001b[0;34m\u001b[0m\u001b[0m\n\u001b[1;32m      6\u001b[0m \u001b[0mcell\u001b[0m \u001b[0;34m=\u001b[0m \u001b[0;34m[\u001b[0m\u001b[0;34m\"\\n\"\u001b[0m\u001b[0;34m.\u001b[0m\u001b[0mjoin\u001b[0m\u001b[0;34m(\u001b[0m\u001b[0mc\u001b[0m\u001b[0;34m[\u001b[0m\u001b[0;34m\"source\"\u001b[0m\u001b[0;34m]\u001b[0m\u001b[0;34m)\u001b[0m \u001b[0;32mfor\u001b[0m \u001b[0mc\u001b[0m \u001b[0;32min\u001b[0m \u001b[0mjson\u001b[0m\u001b[0;34m[\u001b[0m\u001b[0;34m\"cells\"\u001b[0m\u001b[0;34m]\u001b[0m \u001b[0;32mif\u001b[0m \u001b[0mc\u001b[0m\u001b[0;34m[\u001b[0m\u001b[0;34m\"cell_type\"\u001b[0m\u001b[0;34m]\u001b[0m \u001b[0;34m==\u001b[0m \u001b[0;34m\"markdown\"\u001b[0m\u001b[0;34m]\u001b[0m\u001b[0;34m\u001b[0m\u001b[0;34m\u001b[0m\u001b[0m\n",
            "\u001b[0;32m/usr/lib/python3.7/json/__init__.py\u001b[0m in \u001b[0;36mloads\u001b[0;34m(s, encoding, cls, object_hook, parse_float, parse_int, parse_constant, object_pairs_hook, **kw)\u001b[0m\n\u001b[1;32m    346\u001b[0m             \u001b[0mparse_int\u001b[0m \u001b[0;32mis\u001b[0m \u001b[0;32mNone\u001b[0m \u001b[0;32mand\u001b[0m \u001b[0mparse_float\u001b[0m \u001b[0;32mis\u001b[0m \u001b[0;32mNone\u001b[0m \u001b[0;32mand\u001b[0m\u001b[0;34m\u001b[0m\u001b[0;34m\u001b[0m\u001b[0m\n\u001b[1;32m    347\u001b[0m             parse_constant is None and object_pairs_hook is None and not kw):\n\u001b[0;32m--> 348\u001b[0;31m         \u001b[0;32mreturn\u001b[0m \u001b[0m_default_decoder\u001b[0m\u001b[0;34m.\u001b[0m\u001b[0mdecode\u001b[0m\u001b[0;34m(\u001b[0m\u001b[0ms\u001b[0m\u001b[0;34m)\u001b[0m\u001b[0;34m\u001b[0m\u001b[0;34m\u001b[0m\u001b[0m\n\u001b[0m\u001b[1;32m    349\u001b[0m     \u001b[0;32mif\u001b[0m \u001b[0mcls\u001b[0m \u001b[0;32mis\u001b[0m \u001b[0;32mNone\u001b[0m\u001b[0;34m:\u001b[0m\u001b[0;34m\u001b[0m\u001b[0;34m\u001b[0m\u001b[0m\n\u001b[1;32m    350\u001b[0m         \u001b[0mcls\u001b[0m \u001b[0;34m=\u001b[0m \u001b[0mJSONDecoder\u001b[0m\u001b[0;34m\u001b[0m\u001b[0;34m\u001b[0m\u001b[0m\n",
            "\u001b[0;32m/usr/lib/python3.7/json/decoder.py\u001b[0m in \u001b[0;36mdecode\u001b[0;34m(self, s, _w)\u001b[0m\n\u001b[1;32m    335\u001b[0m \u001b[0;34m\u001b[0m\u001b[0m\n\u001b[1;32m    336\u001b[0m         \"\"\"\n\u001b[0;32m--> 337\u001b[0;31m         \u001b[0mobj\u001b[0m\u001b[0;34m,\u001b[0m \u001b[0mend\u001b[0m \u001b[0;34m=\u001b[0m \u001b[0mself\u001b[0m\u001b[0;34m.\u001b[0m\u001b[0mraw_decode\u001b[0m\u001b[0;34m(\u001b[0m\u001b[0ms\u001b[0m\u001b[0;34m,\u001b[0m \u001b[0midx\u001b[0m\u001b[0;34m=\u001b[0m\u001b[0m_w\u001b[0m\u001b[0;34m(\u001b[0m\u001b[0ms\u001b[0m\u001b[0;34m,\u001b[0m \u001b[0;36m0\u001b[0m\u001b[0;34m)\u001b[0m\u001b[0;34m.\u001b[0m\u001b[0mend\u001b[0m\u001b[0;34m(\u001b[0m\u001b[0;34m)\u001b[0m\u001b[0;34m)\u001b[0m\u001b[0;34m\u001b[0m\u001b[0;34m\u001b[0m\u001b[0m\n\u001b[0m\u001b[1;32m    338\u001b[0m         \u001b[0mend\u001b[0m \u001b[0;34m=\u001b[0m \u001b[0m_w\u001b[0m\u001b[0;34m(\u001b[0m\u001b[0ms\u001b[0m\u001b[0;34m,\u001b[0m \u001b[0mend\u001b[0m\u001b[0;34m)\u001b[0m\u001b[0;34m.\u001b[0m\u001b[0mend\u001b[0m\u001b[0;34m(\u001b[0m\u001b[0;34m)\u001b[0m\u001b[0;34m\u001b[0m\u001b[0;34m\u001b[0m\u001b[0m\n\u001b[1;32m    339\u001b[0m         \u001b[0;32mif\u001b[0m \u001b[0mend\u001b[0m \u001b[0;34m!=\u001b[0m \u001b[0mlen\u001b[0m\u001b[0;34m(\u001b[0m\u001b[0ms\u001b[0m\u001b[0;34m)\u001b[0m\u001b[0;34m:\u001b[0m\u001b[0;34m\u001b[0m\u001b[0;34m\u001b[0m\u001b[0m\n",
            "\u001b[0;32m/usr/lib/python3.7/json/decoder.py\u001b[0m in \u001b[0;36mraw_decode\u001b[0;34m(self, s, idx)\u001b[0m\n\u001b[1;32m    353\u001b[0m             \u001b[0mobj\u001b[0m\u001b[0;34m,\u001b[0m \u001b[0mend\u001b[0m \u001b[0;34m=\u001b[0m \u001b[0mself\u001b[0m\u001b[0;34m.\u001b[0m\u001b[0mscan_once\u001b[0m\u001b[0;34m(\u001b[0m\u001b[0ms\u001b[0m\u001b[0;34m,\u001b[0m \u001b[0midx\u001b[0m\u001b[0;34m)\u001b[0m\u001b[0;34m\u001b[0m\u001b[0;34m\u001b[0m\u001b[0m\n\u001b[1;32m    354\u001b[0m         \u001b[0;32mexcept\u001b[0m \u001b[0mStopIteration\u001b[0m \u001b[0;32mas\u001b[0m \u001b[0merr\u001b[0m\u001b[0;34m:\u001b[0m\u001b[0;34m\u001b[0m\u001b[0;34m\u001b[0m\u001b[0m\n\u001b[0;32m--> 355\u001b[0;31m             \u001b[0;32mraise\u001b[0m \u001b[0mJSONDecodeError\u001b[0m\u001b[0;34m(\u001b[0m\u001b[0;34m\"Expecting value\"\u001b[0m\u001b[0;34m,\u001b[0m \u001b[0ms\u001b[0m\u001b[0;34m,\u001b[0m \u001b[0merr\u001b[0m\u001b[0;34m.\u001b[0m\u001b[0mvalue\u001b[0m\u001b[0;34m)\u001b[0m \u001b[0;32mfrom\u001b[0m \u001b[0;32mNone\u001b[0m\u001b[0;34m\u001b[0m\u001b[0;34m\u001b[0m\u001b[0m\n\u001b[0m\u001b[1;32m    356\u001b[0m         \u001b[0;32mreturn\u001b[0m \u001b[0mobj\u001b[0m\u001b[0;34m,\u001b[0m \u001b[0mend\u001b[0m\u001b[0;34m\u001b[0m\u001b[0;34m\u001b[0m\u001b[0m\n",
            "\u001b[0;31mJSONDecodeError\u001b[0m: Expecting value: line 1 column 1 (char 0)"
          ]
        }
      ]
    },
    {
      "cell_type": "code",
      "metadata": {
        "id": "51FxBJt-Ae3D"
      },
      "source": [
        "# 하나의 문서 집합 처리 \n",
        "\n",
        "vect = CountVectorizer().fit(docs)\n",
        "count = vect.transform(docs).toarray().sum(axis=0)\n",
        "idx = np.argsort(-count)\n",
        "count = count[idx]\n",
        "feature_name = np.array(vect.get_feature_names())[idx]\n",
        "plt.bar(range(len(count)), count)\n",
        "plt.show()"
      ],
      "execution_count": null,
      "outputs": []
    },
    {
      "cell_type": "code",
      "metadata": {
        "id": "Y0yEqLMdC-ZU"
      },
      "source": [
        "# pprint(list(zip(feature_name, count))[:10])\n",
        "# 각 단어별 빈도수 확인"
      ],
      "execution_count": null,
      "outputs": []
    }
  ]
}